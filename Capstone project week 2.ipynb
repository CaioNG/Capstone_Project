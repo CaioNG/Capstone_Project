{
    "cells": [
        {
            "cell_type": "markdown",
            "metadata": {
                "collapsed": true
            },
            "source": "# Capstone: Find the best neighborhood in Toronto to open apply government incentives to urban development"
        },
        {
            "cell_type": "markdown",
            "metadata": {},
            "source": "## Table of contents\n\n* [Introduction: Business Problem](#introduction)\n* [Data](#data)\n* [Methodology](#methodology)\n* [Analysis](#analysis)\n* [Results and Discussion](#results)\n* [Conclusion](#conclusion)"
        },
        {
            "cell_type": "markdown",
            "metadata": {},
            "source": "### Introduction: Business Problem <a name=\"introduction\"></a>\n\nThe government of Toronto has funded a project to incentivise commercial areas in order to stimulate urban development in underdeveloped comercial regions, with the first sector to receive the stimulus being the restaurant sector.\n\nIn order to find said restaurants with the need for said stimulus we must search for areas which are secluded and have a poor saturation of this sector of commerce.\n\nWe will use data science to analyse data and focus on the least populous and explore its neighborhoods and find the most eligible venues in each neighborhood so that the best neighborhood can receive the stimulus."
        },
        {
            "cell_type": "markdown",
            "metadata": {},
            "source": "### Data <a name=\"data\"></a>\n\n#### List of Toronto neighborhoods broken down by postal code.\nto find wich are the existing neighborhoods in toronto\nhttps://en.wikipedia.org/wiki/List_of_postal_codes_of_Canada:_M\n\n#### Toronto neighborhoods populations\nto find the least populus\nhttps://www12.statcan.gc.ca/census-recensement/2016/dp-pd/hlt-fst/pd-pl/Tables/File.cfm?T=1201&SR=1&RPP=9999&PR=0&CMA=0&CSD=0&S=22&O=A&Lang=Eng&OFT=CSV\n\n\n#### list of all Restaurant Venues from all neighborhoods in Toronto\nto find the venues\nhttps://api.foursquare.com"
        },
        {
            "cell_type": "markdown",
            "metadata": {},
            "source": " **1. Read data** \n \n read the data from the **List of Toronto neighborhoods** and **Toronto neighborhoods populations** \n \n **2. Merge data** \n\n merge **List of Toronto neighborhoods** with geographic information and  **Toronto neighborhoods populations** \n\n **3. Venues data** \n\nget the data from venues in toronto with the 4SQUARE API, then select only venue related to restaurants \n\n **4. Prepare data** \n \n prepare the data for clustering process \n"
        },
        {
            "cell_type": "markdown",
            "metadata": {},
            "source": "Combining all of these disparate data sets we will try to demonstrate which neighborhoods in Toronto have clusters of like Restaurants, how populated each neighborhoods is and which neighborhood should he target to receive the stimulus."
        },
        {
            "cell_type": "markdown",
            "metadata": {},
            "source": "### Methodology<a name=\"methodology\"></a>\n\n#### Clustering\nThe clustering method used was K-means. The K-means method is a classic data mining and signal processing algorithm, with the purpose of iteratively partitioning n observations in k clusters in which each observation has a distance of an average value for each cluster, called centroid. The iterative process seeks to maximize the distance between clusters and to minimize the distance within the clusters for optimal convergence.\n\n\n"
        },
        {
            "cell_type": "markdown",
            "metadata": {},
            "source": "**1. Apply cluster method** \n\nRun K means and segment data into clusters\n\n**2. Add geographic data** \n\nMerge the Toronto data with geo coordinates to cluster labels"
        },
        {
            "cell_type": "markdown",
            "metadata": {},
            "source": "### Analysis<a name=\"analysis\"></a>\nBy looking at the low density clusters and the map plot of the neighborhoods a clear group of low population and geographically close neighborhoods is formed in the cluster 5."
        },
        {
            "cell_type": "markdown",
            "metadata": {},
            "source": "### Results and Discussion <a name=\"results\"></a>\n\n\nAs we look at the data, a well defined area on the map is formed by cluster 5. Its low density and low population makes it a really good starting point of application for the government stimulus. The best neighborhood being Downsview in North York, were the postal code of \u201c M3K \u201c is the prime location to begin.\n"
        },
        {
            "cell_type": "markdown",
            "metadata": {},
            "source": "### Conclusion <a name=\"conclusion\"></a>\n\n\nI feel confident with the recommendation in this area as it is backed up with demonstrated data analysis. While nothing can ever be certain I am certain that it is a great neighborhood to receive the government incentives.\n\nMuch more inference can be obtained with more work, so that the rollout of the stimulus can be most efficient.\n"
        },
        {
            "cell_type": "code",
            "execution_count": null,
            "metadata": {},
            "outputs": [],
            "source": ""
        }
    ],
    "metadata": {
        "kernelspec": {
            "display_name": "Python 3.7",
            "language": "python",
            "name": "python3"
        },
        "language_info": {
            "codemirror_mode": {
                "name": "ipython",
                "version": 3
            },
            "file_extension": ".py",
            "mimetype": "text/x-python",
            "name": "python",
            "nbconvert_exporter": "python",
            "pygments_lexer": "ipython3",
            "version": "3.7.9"
        }
    },
    "nbformat": 4,
    "nbformat_minor": 1
}