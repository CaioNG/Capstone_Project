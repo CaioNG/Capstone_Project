{
    "cells": [
        {
            "cell_type": "markdown",
            "metadata": {
                "collapsed": true
            },
            "source": " # Capstone: Find the best neighborhood in Toronto to open apply government incentives to urban development"
        },
        {
            "cell_type": "markdown",
            "metadata": {},
            "source": "### Data\n\n#### List of Toronto neighborhoods broken down by postal code.\nto find wich are the existing neighborhoods in toronto\nhttps://en.wikipedia.org/wiki/List_of_postal_codes_of_Canada:_M\n\n#### Toronto neighborhoods populations\nto find the least populus\nhttps://www12.statcan.gc.ca/census-recensement/2016/dp-pd/hlt-fst/pd-pl/Tables/File.cfm?T=1201&SR=1&RPP=9999&PR=0&CMA=0&CSD=0&S=22&O=A&Lang=Eng&OFT=CSV\n\n#### list of Toronto neighborhoods average after tax income\nto find strugling neighborhoods\nhttps://www12.statcan.gc.ca/census-recensement/2016/dp-pd/prof/search-recherche/change-geo.cfm?Lang=E&Geo1=FSA\n\n#### list of all Restaurant Venues from all neighborhoods in Toronto\nto find the venues\nhttps://api.foursquare.com"
        }
    ],
    "metadata": {
        "kernelspec": {
            "display_name": "Python 3.7",
            "language": "python",
            "name": "python3"
        },
        "language_info": {
            "codemirror_mode": {
                "name": "ipython",
                "version": 3
            },
            "file_extension": ".py",
            "mimetype": "text/x-python",
            "name": "python",
            "nbconvert_exporter": "python",
            "pygments_lexer": "ipython3",
            "version": "3.7.9"
        }
    },
    "nbformat": 4,
    "nbformat_minor": 1
}