{
    "cells": [
        {
            "cell_type": "markdown",
            "metadata": {
                "collapsed": true
            },
            "source": " # Capstone: Find the best neighborhood in Toronto to open apply government incentives to urban development\n \n "
        },
        {
            "cell_type": "markdown",
            "metadata": {},
            "source": "### Introduction: Business Problem\n\nThe government of Toronto has funded a project to incentivise commercial areas in order to stimulate urban development in underdeveloped comercial regions, with the first sector to receive the stimulus being the restaurant sector.\n\nIn order to find said restaurants with the need for said stimulus we must search for areas which are secluded and have a poor saturation of this sector of commerce.\n\nWe will use data science to analyse data and focus on the least populous and explore its neighborhoods and find 10 most eligible venues in each neighborhood so that the best neighborhood can receive the stimulus."
        },
        {
            "cell_type": "code",
            "execution_count": null,
            "metadata": {},
            "outputs": [],
            "source": ""
        }
    ],
    "metadata": {
        "kernelspec": {
            "display_name": "Python 3.7",
            "language": "python",
            "name": "python3"
        },
        "language_info": {
            "codemirror_mode": {
                "name": "ipython",
                "version": 3
            },
            "file_extension": ".py",
            "mimetype": "text/x-python",
            "name": "python",
            "nbconvert_exporter": "python",
            "pygments_lexer": "ipython3",
            "version": "3.7.9"
        }
    },
    "nbformat": 4,
    "nbformat_minor": 1
}